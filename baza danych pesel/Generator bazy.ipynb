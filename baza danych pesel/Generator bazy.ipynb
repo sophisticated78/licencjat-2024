{
 "cells": [
  {
   "cell_type": "code",
   "execution_count": 335,
   "id": "2a712955",
   "metadata": {},
   "outputs": [],
   "source": [
    "import numpy as np\n",
    "import pandas as pd\n",
    "import random\n",
    "from datetime import datetime, timedelta"
   ]
  },
  {
   "cell_type": "code",
   "execution_count": 38,
   "id": "c0fba9a4",
   "metadata": {},
   "outputs": [],
   "source": [
    "# wczytanie danych z pliku csv do dataframe\n",
    "df_pim = pd.read_csv('pierwsze_imie_meskie.csv')\n",
    "df_dim = pd.read_csv('drugie_imie_meskie.csv')\n",
    "df_nm = pd.read_csv('nazwiska_meskie.csv')\n",
    "df_piz = pd.read_csv('pierwsze_imie_zenskie.csv')\n",
    "df_diz = pd.read_csv('drugie_imie_zenskie.csv')\n",
    "df_nz = pd.read_csv('nazwiska_zenskie.csv')"
   ]
  },
  {
   "cell_type": "code",
   "execution_count": 68,
   "id": "42da3bb0",
   "metadata": {},
   "outputs": [],
   "source": [
    "# dostosowanie nazw kolumn w tabelach\n",
    "df_nm.rename(columns={'Liczba': 'LICZBA_WYSTĄPIEŃ'}, inplace=True)\n",
    "df_nz.rename(columns={'Liczba': 'LICZBA_WYSTĄPIEŃ'}, inplace=True)\n",
    "df_nm.rename(columns={'Nazwisko aktualne': 'NAZWISKO'}, inplace=True)\n",
    "df_nz.rename(columns={'Nazwisko aktualne': 'NAZWISKO'}, inplace=True)"
   ]
  },
  {
   "cell_type": "code",
   "execution_count": 49,
   "id": "0cb06392",
   "metadata": {},
   "outputs": [],
   "source": [
    "# utworzenie listy dataframe'ów\n",
    "lista = [df_pim, df_dim, df_nm, df_piz, df_diz, df_nz]"
   ]
  },
  {
   "cell_type": "code",
   "execution_count": 51,
   "id": "e0f52d93",
   "metadata": {},
   "outputs": [],
   "source": [
    "# dodanie do zbiorów kolumn na prawdopodobieństo wystąpienia \n",
    "for df in lista:\n",
    "    df['PRAWDOPODOBIEŃSTWO_WYSTĄPIENIA'] = ''"
   ]
  },
  {
   "cell_type": "code",
   "execution_count": 64,
   "id": "73840165",
   "metadata": {},
   "outputs": [],
   "source": [
    "#obliczenie i dodanie do dataframe'ów wartości prawdopodobieństw wystąpienia\n",
    "for df in lista:\n",
    "    suma_wystapien = df['LICZBA_WYSTĄPIEŃ'].sum()\n",
    "    for index in range(0, len(df)):  \n",
    "        wartosc = df.at[index, 'LICZBA_WYSTĄPIEŃ']\n",
    "        prawdopodobienstwo = wartosc / suma_wystapien\n",
    "        df.at[index, 'PRAWDOPODOBIEŃSTWO_WYSTĄPIENIA'] = prawdopodobienstwo"
   ]
  },
  {
   "cell_type": "code",
   "execution_count": 408,
   "id": "fc5f5ff0",
   "metadata": {},
   "outputs": [
    {
     "name": "stdout",
     "output_type": "stream",
     "text": [
      "1    KATARZYNA\n",
      "Name: IMIĘ_PIERWSZE, dtype: object\n"
     ]
    }
   ],
   "source": [
    "#utworzenie generatora \n",
    "def generator(df, numer_kolumny, wagi, n=1):\n",
    "    while True:\n",
    "        indeks = np.random.choice(df.index, size=n, p=wagi)\n",
    "        wartosc = df.iloc[indeks, numer_kolumny]\n",
    "        return wartosc    "
   ]
  },
  {
   "cell_type": "code",
   "execution_count": 222,
   "id": "d3be403c",
   "metadata": {},
   "outputs": [],
   "source": [
    "#utworzenie listy danych osobowych z podziałem na płeć\n",
    "lista_meskie = [df_pim, df_dim, df_nm]\n",
    "lista_zenskie = [df_piz, df_diz, df_nz]"
   ]
  },
  {
   "cell_type": "code",
   "execution_count": 384,
   "id": "a7817be1",
   "metadata": {},
   "outputs": [],
   "source": [
    "#utworzenie nowych plików csv z podziałem na płeć\n",
    "bdm = pd.DataFrame(columns=['PIERWSZE_IMIĘ', 'DRUGIE_IMIĘ', 'NAZWISKO'])\n",
    "bdk = pd.DataFrame(columns=['PIERWSZE_IMIĘ', 'DRUGIE_IMIĘ', 'NAZWISKO'])\n",
    "bdm_sciezka = 'baza_danych_mezczyzni.csv'\n",
    "bdk_sciezka = 'baza_danych_kobiety.csv'\n",
    "bdm.to_csv(bdm_sciezka, index=False)\n",
    "bdk.to_csv(bdk_sciezka, index=False)\n"
   ]
  },
  {
   "cell_type": "code",
   "execution_count": 415,
   "id": "9b446ec8",
   "metadata": {},
   "outputs": [
    {
     "ename": "KeyboardInterrupt",
     "evalue": "",
     "output_type": "error",
     "traceback": [
      "\u001b[1;31m---------------------------------------------------------------------------\u001b[0m",
      "\u001b[1;31mKeyboardInterrupt\u001b[0m                         Traceback (most recent call last)",
      "\u001b[1;32m<ipython-input-415-183a603684da>\u001b[0m in \u001b[0;36m<module>\u001b[1;34m\u001b[0m\n\u001b[0;32m      3\u001b[0m     \u001b[1;32mfor\u001b[0m \u001b[0mdf\u001b[0m \u001b[1;32min\u001b[0m \u001b[0mlista_meskie\u001b[0m\u001b[1;33m:\u001b[0m\u001b[1;33m\u001b[0m\u001b[1;33m\u001b[0m\u001b[0m\n\u001b[0;32m      4\u001b[0m         \u001b[0mwagi\u001b[0m \u001b[1;33m=\u001b[0m \u001b[0mdf\u001b[0m\u001b[1;33m[\u001b[0m\u001b[1;34m'PRAWDOPODOBIEŃSTWO_WYSTĄPIENIA'\u001b[0m\u001b[1;33m]\u001b[0m\u001b[1;33m\u001b[0m\u001b[1;33m\u001b[0m\u001b[0m\n\u001b[1;32m----> 5\u001b[1;33m         \u001b[0mwartosc\u001b[0m \u001b[1;33m=\u001b[0m \u001b[0mgenerator\u001b[0m\u001b[1;33m(\u001b[0m\u001b[0mdf\u001b[0m\u001b[1;33m,\u001b[0m \u001b[1;36m0\u001b[0m\u001b[1;33m,\u001b[0m \u001b[0mwagi\u001b[0m\u001b[1;33m,\u001b[0m \u001b[0mn\u001b[0m\u001b[1;33m=\u001b[0m\u001b[1;36m1\u001b[0m\u001b[1;33m)\u001b[0m\u001b[1;33m\u001b[0m\u001b[1;33m\u001b[0m\u001b[0m\n\u001b[0m\u001b[0;32m      6\u001b[0m         \u001b[0mrekord\u001b[0m\u001b[1;33m.\u001b[0m\u001b[0mextend\u001b[0m\u001b[1;33m(\u001b[0m\u001b[0mwartosc\u001b[0m\u001b[1;33m)\u001b[0m\u001b[1;33m\u001b[0m\u001b[1;33m\u001b[0m\u001b[0m\n\u001b[0;32m      7\u001b[0m     \u001b[0mbdm\u001b[0m\u001b[1;33m.\u001b[0m\u001b[0mloc\u001b[0m\u001b[1;33m[\u001b[0m\u001b[0mlen\u001b[0m\u001b[1;33m(\u001b[0m\u001b[0mbdm\u001b[0m\u001b[1;33m)\u001b[0m\u001b[1;33m]\u001b[0m \u001b[1;33m=\u001b[0m \u001b[0mrekord\u001b[0m\u001b[1;33m\u001b[0m\u001b[1;33m\u001b[0m\u001b[0m\n",
      "\u001b[1;32m<ipython-input-408-02882a78dc12>\u001b[0m in \u001b[0;36mgenerator\u001b[1;34m(df, numer_kolumny, wagi, n)\u001b[0m\n\u001b[0;32m      2\u001b[0m \u001b[1;32mdef\u001b[0m \u001b[0mgenerator\u001b[0m\u001b[1;33m(\u001b[0m\u001b[0mdf\u001b[0m\u001b[1;33m,\u001b[0m \u001b[0mnumer_kolumny\u001b[0m\u001b[1;33m,\u001b[0m \u001b[0mwagi\u001b[0m\u001b[1;33m,\u001b[0m \u001b[0mn\u001b[0m\u001b[1;33m=\u001b[0m\u001b[1;36m1\u001b[0m\u001b[1;33m)\u001b[0m\u001b[1;33m:\u001b[0m\u001b[1;33m\u001b[0m\u001b[1;33m\u001b[0m\u001b[0m\n\u001b[0;32m      3\u001b[0m     \u001b[1;32mwhile\u001b[0m \u001b[1;32mTrue\u001b[0m\u001b[1;33m:\u001b[0m\u001b[1;33m\u001b[0m\u001b[1;33m\u001b[0m\u001b[0m\n\u001b[1;32m----> 4\u001b[1;33m         \u001b[0mindeks\u001b[0m \u001b[1;33m=\u001b[0m \u001b[0mnp\u001b[0m\u001b[1;33m.\u001b[0m\u001b[0mrandom\u001b[0m\u001b[1;33m.\u001b[0m\u001b[0mchoice\u001b[0m\u001b[1;33m(\u001b[0m\u001b[0mdf\u001b[0m\u001b[1;33m.\u001b[0m\u001b[0mindex\u001b[0m\u001b[1;33m,\u001b[0m \u001b[0msize\u001b[0m\u001b[1;33m=\u001b[0m\u001b[0mn\u001b[0m\u001b[1;33m,\u001b[0m \u001b[0mp\u001b[0m\u001b[1;33m=\u001b[0m\u001b[0mwagi\u001b[0m\u001b[1;33m)\u001b[0m\u001b[1;33m\u001b[0m\u001b[1;33m\u001b[0m\u001b[0m\n\u001b[0m\u001b[0;32m      5\u001b[0m         \u001b[0mwartosc\u001b[0m \u001b[1;33m=\u001b[0m \u001b[0mdf\u001b[0m\u001b[1;33m.\u001b[0m\u001b[0miloc\u001b[0m\u001b[1;33m[\u001b[0m\u001b[0mindeks\u001b[0m\u001b[1;33m,\u001b[0m \u001b[0mnumer_kolumny\u001b[0m\u001b[1;33m]\u001b[0m\u001b[1;33m\u001b[0m\u001b[1;33m\u001b[0m\u001b[0m\n\u001b[0;32m      6\u001b[0m         \u001b[1;32mreturn\u001b[0m \u001b[0mwartosc\u001b[0m\u001b[1;33m\u001b[0m\u001b[1;33m\u001b[0m\u001b[0m\n",
      "\u001b[1;31mKeyboardInterrupt\u001b[0m: "
     ]
    }
   ],
   "source": [
    "#generowanie i dodawanie danych do tabeli baza_danych_mezczyzni \n",
    "rekord = []\n",
    "for i in range (1, 10000):\n",
    "    for df in lista_meskie:\n",
    "        wagi = df['PRAWDOPODOBIEŃSTWO_WYSTĄPIENIA']\n",
    "        wartosc = generator(df, 0, wagi, n=1)\n",
    "        rekord.extend(wartosc)\n",
    "    bdm.loc[len(bdm)] = rekord\n",
    "    rekord = []"
   ]
  },
  {
   "cell_type": "code",
   "execution_count": 396,
   "id": "1cfe67e1",
   "metadata": {},
   "outputs": [
    {
     "ename": "KeyboardInterrupt",
     "evalue": "",
     "output_type": "error",
     "traceback": [
      "\u001b[1;31m---------------------------------------------------------------------------\u001b[0m",
      "\u001b[1;31mKeyboardInterrupt\u001b[0m                         Traceback (most recent call last)",
      "\u001b[1;32m<ipython-input-396-05da4b29cdf6>\u001b[0m in \u001b[0;36m<module>\u001b[1;34m\u001b[0m\n\u001b[0;32m      3\u001b[0m     \u001b[1;32mfor\u001b[0m \u001b[0mdf\u001b[0m \u001b[1;32min\u001b[0m \u001b[0mlista_zenskie\u001b[0m\u001b[1;33m:\u001b[0m\u001b[1;33m\u001b[0m\u001b[1;33m\u001b[0m\u001b[0m\n\u001b[0;32m      4\u001b[0m         \u001b[0mwagi\u001b[0m \u001b[1;33m=\u001b[0m \u001b[0mdf\u001b[0m\u001b[1;33m[\u001b[0m\u001b[1;34m'PRAWDOPODOBIEŃSTWO_WYSTĄPIENIA'\u001b[0m\u001b[1;33m]\u001b[0m\u001b[1;33m\u001b[0m\u001b[1;33m\u001b[0m\u001b[0m\n\u001b[1;32m----> 5\u001b[1;33m         \u001b[0mwartosc\u001b[0m \u001b[1;33m=\u001b[0m \u001b[0mnext\u001b[0m\u001b[1;33m(\u001b[0m\u001b[0mgenerator\u001b[0m\u001b[1;33m(\u001b[0m\u001b[0mdf\u001b[0m\u001b[1;33m,\u001b[0m \u001b[1;36m0\u001b[0m\u001b[1;33m,\u001b[0m \u001b[0mwagi\u001b[0m\u001b[1;33m,\u001b[0m \u001b[0mn\u001b[0m\u001b[1;33m=\u001b[0m\u001b[1;36m1\u001b[0m\u001b[1;33m)\u001b[0m\u001b[1;33m)\u001b[0m\u001b[1;33m\u001b[0m\u001b[1;33m\u001b[0m\u001b[0m\n\u001b[0m\u001b[0;32m      6\u001b[0m         \u001b[0mrekord\u001b[0m\u001b[1;33m.\u001b[0m\u001b[0mextend\u001b[0m\u001b[1;33m(\u001b[0m\u001b[0mwartosc\u001b[0m\u001b[1;33m)\u001b[0m\u001b[1;33m\u001b[0m\u001b[1;33m\u001b[0m\u001b[0m\n\u001b[0;32m      7\u001b[0m     \u001b[0mbdk\u001b[0m\u001b[1;33m.\u001b[0m\u001b[0mloc\u001b[0m\u001b[1;33m[\u001b[0m\u001b[0mlen\u001b[0m\u001b[1;33m(\u001b[0m\u001b[0mbdk\u001b[0m\u001b[1;33m)\u001b[0m\u001b[1;33m]\u001b[0m \u001b[1;33m=\u001b[0m \u001b[0mrekord\u001b[0m\u001b[1;33m\u001b[0m\u001b[1;33m\u001b[0m\u001b[0m\n",
      "\u001b[1;32m<ipython-input-221-9465ef3315f7>\u001b[0m in \u001b[0;36mgenerator\u001b[1;34m(df, numer_kolumny, wagi, n)\u001b[0m\n\u001b[0;32m      2\u001b[0m \u001b[1;32mdef\u001b[0m \u001b[0mgenerator\u001b[0m\u001b[1;33m(\u001b[0m\u001b[0mdf\u001b[0m\u001b[1;33m,\u001b[0m \u001b[0mnumer_kolumny\u001b[0m\u001b[1;33m,\u001b[0m \u001b[0mwagi\u001b[0m\u001b[1;33m,\u001b[0m \u001b[0mn\u001b[0m\u001b[1;33m=\u001b[0m\u001b[1;36m1\u001b[0m\u001b[1;33m)\u001b[0m\u001b[1;33m:\u001b[0m\u001b[1;33m\u001b[0m\u001b[1;33m\u001b[0m\u001b[0m\n\u001b[0;32m      3\u001b[0m     \u001b[1;32mwhile\u001b[0m \u001b[1;32mTrue\u001b[0m\u001b[1;33m:\u001b[0m\u001b[1;33m\u001b[0m\u001b[1;33m\u001b[0m\u001b[0m\n\u001b[1;32m----> 4\u001b[1;33m         \u001b[0mindeks\u001b[0m \u001b[1;33m=\u001b[0m \u001b[0mnp\u001b[0m\u001b[1;33m.\u001b[0m\u001b[0mrandom\u001b[0m\u001b[1;33m.\u001b[0m\u001b[0mchoice\u001b[0m\u001b[1;33m(\u001b[0m\u001b[0mdf\u001b[0m\u001b[1;33m.\u001b[0m\u001b[0mindex\u001b[0m\u001b[1;33m,\u001b[0m \u001b[0msize\u001b[0m\u001b[1;33m=\u001b[0m\u001b[0mn\u001b[0m\u001b[1;33m,\u001b[0m \u001b[0mp\u001b[0m\u001b[1;33m=\u001b[0m\u001b[0mwagi\u001b[0m\u001b[1;33m)\u001b[0m\u001b[1;33m\u001b[0m\u001b[1;33m\u001b[0m\u001b[0m\n\u001b[0m\u001b[0;32m      5\u001b[0m         \u001b[0mwartosc\u001b[0m \u001b[1;33m=\u001b[0m \u001b[0mdf\u001b[0m\u001b[1;33m.\u001b[0m\u001b[0miloc\u001b[0m\u001b[1;33m[\u001b[0m\u001b[0mindeks\u001b[0m\u001b[1;33m,\u001b[0m \u001b[0mnumer_kolumny\u001b[0m\u001b[1;33m]\u001b[0m\u001b[1;33m\u001b[0m\u001b[1;33m\u001b[0m\u001b[0m\n\u001b[0;32m      6\u001b[0m         \u001b[1;32myield\u001b[0m \u001b[0mwartosc\u001b[0m\u001b[1;33m\u001b[0m\u001b[1;33m\u001b[0m\u001b[0m\n",
      "\u001b[1;31mKeyboardInterrupt\u001b[0m: "
     ]
    }
   ],
   "source": [
    "#generowanie i dodawanie danych do tabeli baza_danych_kobiety\n",
    "rekord = []\n",
    "for i in range (1, 10000):\n",
    "    for df in lista_zenskie:\n",
    "        wagi = df['PRAWDOPODOBIEŃSTWO_WYSTĄPIENIA']\n",
    "        wartosc = generator(df, 0, wagi, n=1)\n",
    "        rekord.extend(wartosc)\n",
    "    bdk.loc[len(bdk)] = rekord\n",
    "    rekord = []"
   ]
  },
  {
   "cell_type": "code",
   "execution_count": 360,
   "id": "6c101217",
   "metadata": {},
   "outputs": [
    {
     "name": "stdout",
     "output_type": "stream",
     "text": [
      "Losowa data urodzenia: 15-09-1945\n"
     ]
    }
   ],
   "source": [
    "#utworzenie generatora do daty urodzenia (maksymalnie 100 lat wstecz)\n",
    "def generator_data_urodzenia():\n",
    "    dzisiaj = datetime.now()\n",
    "    minimalna_data = datetime(dzisiaj.year - 100, dzisiaj.month, dzisiaj.day)\n",
    "    losowa_data = minimalna_data + timedelta(days=random.randint(0, (dzisiaj - minimalna_data).days))\n",
    "    \n",
    "    return losowa_data.strftime('%d-%m-%Y')"
   ]
  },
  {
   "cell_type": "code",
   "execution_count": 417,
   "id": "bff248e2",
   "metadata": {},
   "outputs": [],
   "source": [
    "#utworzenie kolumna na daty urodzenia w plikach csv\n",
    "bdm['DATA URODZENIA'] = ''\n",
    "bdk['DATA URODZENIA'] = ''"
   ]
  },
  {
   "cell_type": "code",
   "execution_count": 418,
   "id": "438134a1",
   "metadata": {},
   "outputs": [],
   "source": [
    "#dodawanie dat urodzenia do pliku baza_danych_mezczyzni\n",
    "for i in range(0, len(bdm)):\n",
    "    bdm.loc[i, 'DATA URODZENIA'] = generator_data_urodzenia()"
   ]
  },
  {
   "cell_type": "code",
   "execution_count": 419,
   "id": "7522f215",
   "metadata": {},
   "outputs": [],
   "source": [
    "#dodawanie dat urodzenia do pliku baza_danych_kobiety\n",
    "for i in range(0, len(bdm)):\n",
    "    bdk.loc[i, 'DATA URODZENIA'] = generator_data_urodzenia()"
   ]
  },
  {
   "cell_type": "code",
   "execution_count": 424,
   "id": "7f8d0843",
   "metadata": {},
   "outputs": [],
   "source": [
    "bdm.to_csv(bdm_sciezka, index=False)\n",
    "bdk.to_csv(bdk_sciezka, index=False)"
   ]
  },
  {
   "cell_type": "code",
   "execution_count": 425,
   "id": "70069357",
   "metadata": {},
   "outputs": [],
   "source": [
    "df_pim.to_csv('pierwsze_imie_meskie.csv', index=False)\n",
    "df_dim.to_csv('drugie_imie_meskie.csv', index=False)\n",
    "df_nm.to_csv('nazwiska_meskie.csv', index=False)\n",
    "df_piz.to_csv('pierwsze_imie_zenskie.csv', index=False)\n",
    "df_diz.to_csv('drugie_imie_zenskie.csv', index=False)\n",
    "df_nz.to_csv('nazwiska_zenskie.csv', index=False)"
   ]
  }
 ],
 "metadata": {
  "kernelspec": {
   "display_name": "Python 3",
   "language": "python",
   "name": "python3"
  },
  "language_info": {
   "codemirror_mode": {
    "name": "ipython",
    "version": 3
   },
   "file_extension": ".py",
   "mimetype": "text/x-python",
   "name": "python",
   "nbconvert_exporter": "python",
   "pygments_lexer": "ipython3",
   "version": "3.8.8"
  }
 },
 "nbformat": 4,
 "nbformat_minor": 5
}
